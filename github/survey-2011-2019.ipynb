{
 "cells": [
  {
   "cell_type": "code",
   "execution_count": 1,
   "metadata": {},
   "outputs": [],
   "source": [
    "import pandas as pd\n",
    "import numpy as np"
   ]
  },
  {
   "cell_type": "code",
   "execution_count": 2,
   "metadata": {},
   "outputs": [],
   "source": [
    "rules2011 = pd.read_csv('apriori.rule.table-2011.csv')\n",
    "rules2019 = pd.read_csv('apriori.rule.table-2019.csv')"
   ]
  },
  {
   "cell_type": "code",
   "execution_count": 3,
   "metadata": {},
   "outputs": [
    {
     "output_type": "stream",
     "name": "stdout",
     "text": "<class 'pandas.core.frame.DataFrame'>\nRangeIndex: 1783 entries, 0 to 1782\nData columns (total 7 columns):\n #   Column      Non-Null Count  Dtype  \n---  ------      --------------  -----  \n 0   Unnamed: 0  1783 non-null   int64  \n 1   support     1783 non-null   float64\n 2   confidence  1783 non-null   float64\n 3   lift        1783 non-null   float64\n 4   count       1783 non-null   int64  \n 5   lhs         1783 non-null   object \n 6   rhs         1783 non-null   object \ndtypes: float64(3), int64(2), object(2)\nmemory usage: 97.6+ KB\n"
    }
   ],
   "source": [
    "rules2011.info()"
   ]
  },
  {
   "cell_type": "code",
   "execution_count": 4,
   "metadata": {},
   "outputs": [],
   "source": [
    "rules2011.drop(columns=['Unnamed: 0'], inplace=True)"
   ]
  },
  {
   "cell_type": "code",
   "execution_count": 5,
   "metadata": {},
   "outputs": [
    {
     "output_type": "execute_result",
     "data": {
      "text/plain": "(1783, 6)"
     },
     "metadata": {},
     "execution_count": 5
    }
   ],
   "source": [
    "rules2011.shape"
   ]
  },
  {
   "cell_type": "code",
   "execution_count": 6,
   "metadata": {},
   "outputs": [
    {
     "output_type": "stream",
     "name": "stdout",
     "text": "<class 'pandas.core.frame.DataFrame'>\nRangeIndex: 1951 entries, 0 to 1950\nData columns (total 7 columns):\n #   Column      Non-Null Count  Dtype  \n---  ------      --------------  -----  \n 0   Unnamed: 0  1951 non-null   int64  \n 1   support     1951 non-null   float64\n 2   confidence  1951 non-null   float64\n 3   lift        1951 non-null   float64\n 4   count       1951 non-null   int64  \n 5   lhs         1951 non-null   object \n 6   rhs         1951 non-null   object \ndtypes: float64(3), int64(2), object(2)\nmemory usage: 106.8+ KB\n"
    }
   ],
   "source": [
    "rules2019.info()"
   ]
  },
  {
   "cell_type": "code",
   "execution_count": 7,
   "metadata": {},
   "outputs": [],
   "source": [
    "rules2019.drop(columns=['Unnamed: 0'], inplace=True)"
   ]
  },
  {
   "cell_type": "code",
   "execution_count": 8,
   "metadata": {},
   "outputs": [
    {
     "output_type": "execute_result",
     "data": {
      "text/plain": "    support  confidence      lift  count  \\\n0  0.127410    0.706107  1.579765    185   \n1  0.140496    0.684564  1.531566    204   \n2  0.128788    0.680000  1.521356    187   \n3  0.103306    0.678733  1.518521    150   \n4  0.130165    0.675000  1.510169    189   \n\n                                                 lhs                       rhs  \n0  {Higher.Education.Required.To.Work.In.CS=Yes,\\...  {Would.Enroll.In.CS=Yes}  \n1  {Family.Approves.CS.Major=Yes,\\nHas.Used.Games...  {Would.Enroll.In.CS=Yes}  \n2  {Family.Approves.CS.Major=Yes,\\nUses.Computer....  {Would.Enroll.In.CS=Yes}  \n3  {Family.Approves.CS.Major=Yes,\\nUses.Computer....  {Would.Enroll.In.CS=Yes}  \n4  {Family.Approves.CS.Major=Yes,\\nUses.Computer....  {Would.Enroll.In.CS=Yes}  ",
      "text/html": "<div>\n<style scoped>\n    .dataframe tbody tr th:only-of-type {\n        vertical-align: middle;\n    }\n\n    .dataframe tbody tr th {\n        vertical-align: top;\n    }\n\n    .dataframe thead th {\n        text-align: right;\n    }\n</style>\n<table border=\"1\" class=\"dataframe\">\n  <thead>\n    <tr style=\"text-align: right;\">\n      <th></th>\n      <th>support</th>\n      <th>confidence</th>\n      <th>lift</th>\n      <th>count</th>\n      <th>lhs</th>\n      <th>rhs</th>\n    </tr>\n  </thead>\n  <tbody>\n    <tr>\n      <th>0</th>\n      <td>0.127410</td>\n      <td>0.706107</td>\n      <td>1.579765</td>\n      <td>185</td>\n      <td>{Higher.Education.Required.To.Work.In.CS=Yes,\\...</td>\n      <td>{Would.Enroll.In.CS=Yes}</td>\n    </tr>\n    <tr>\n      <th>1</th>\n      <td>0.140496</td>\n      <td>0.684564</td>\n      <td>1.531566</td>\n      <td>204</td>\n      <td>{Family.Approves.CS.Major=Yes,\\nHas.Used.Games...</td>\n      <td>{Would.Enroll.In.CS=Yes}</td>\n    </tr>\n    <tr>\n      <th>2</th>\n      <td>0.128788</td>\n      <td>0.680000</td>\n      <td>1.521356</td>\n      <td>187</td>\n      <td>{Family.Approves.CS.Major=Yes,\\nUses.Computer....</td>\n      <td>{Would.Enroll.In.CS=Yes}</td>\n    </tr>\n    <tr>\n      <th>3</th>\n      <td>0.103306</td>\n      <td>0.678733</td>\n      <td>1.518521</td>\n      <td>150</td>\n      <td>{Family.Approves.CS.Major=Yes,\\nUses.Computer....</td>\n      <td>{Would.Enroll.In.CS=Yes}</td>\n    </tr>\n    <tr>\n      <th>4</th>\n      <td>0.130165</td>\n      <td>0.675000</td>\n      <td>1.510169</td>\n      <td>189</td>\n      <td>{Family.Approves.CS.Major=Yes,\\nUses.Computer....</td>\n      <td>{Would.Enroll.In.CS=Yes}</td>\n    </tr>\n  </tbody>\n</table>\n</div>"
     },
     "metadata": {},
     "execution_count": 8
    }
   ],
   "source": [
    "rules2011.head()"
   ]
  },
  {
   "cell_type": "code",
   "execution_count": 9,
   "metadata": {
    "tags": [
     "outputPrepend",
     "outputPrepend",
     "outputPrepend"
    ]
   },
   "outputs": [],
   "source": [
    "def generate_new_table(df, year):\n",
    "    ls = []\n",
    "    for i, rule in df.iterrows():\n",
    "\n",
    "        if 'Year' in rule['lhs']:\n",
    "            continue\n",
    "\n",
    "        row = {'support (' + year + ')': rule['support'], 'confidence (' + year + ')': rule['confidence'], \n",
    "               'lift (' + year + ')': rule['lift'], 'count (' + year + ')': rule['count']}\n",
    "\n",
    "        items = rule['lhs'].replace('{', '').replace('}', '').replace('\\n', '').split(',')\n",
    "        number = 0\n",
    "        for item in items:\n",
    "            number += 1\n",
    "            try:\n",
    "                question, result = item.split('=')\n",
    "                question = question.strip()\n",
    "                result = result.strip()\n",
    "\n",
    "                if result.lower() not in ('yes', 'maybe', 'no'):\n",
    "                    question = ' '.join([question, result]).replace(' ', '.').replace('(','').replace(')', '').replace('-','.')\n",
    "                    result =  'Yes'\n",
    "\n",
    "                row[question] = result\n",
    "            except ValueError:\n",
    "                print(item)\n",
    "\n",
    "        question, result = rule['rhs'].replace('{', '').replace('}', '').split('=')\n",
    "        row[question + ' (' + year + ')'] = result\n",
    "\n",
    "        row['No. Questions'] = number\n",
    "\n",
    "        ls.append(row.copy())\n",
    "\n",
    "    newdf = pd.DataFrame(ls)\n",
    "    newdf.fillna('-', inplace=True)\n",
    "\n",
    "    return newdf"
   ]
  },
  {
   "cell_type": "code",
   "execution_count": 10,
   "metadata": {},
   "outputs": [
    {
     "output_type": "stream",
     "name": "stdout",
     "text": "\n \n \n"
    },
    {
     "output_type": "execute_result",
     "data": {
      "text/plain": "   support (2011)  confidence (2011)  lift (2011)  count (2011)  \\\n0        0.127410           0.706107     1.579765           185   \n1        0.140496           0.684564     1.531566           204   \n2        0.128788           0.680000     1.521356           187   \n3        0.103306           0.678733     1.518521           150   \n4        0.130165           0.675000     1.510169           189   \n\n  Higher.Education.Required.To.Work.In.CS Family.Approves.CS.Major  \\\n0                                     Yes                      Yes   \n1                                       -                      Yes   \n2                                       -                      Yes   \n3                                       -                      Yes   \n4                                       -                      Yes   \n\n  Would.Enroll.In.CS (2011)  No. Questions Has.Used.Games  \\\n0                       Yes              2              -   \n1                       Yes              2            Yes   \n2                       Yes              2              -   \n3                       Yes              2              -   \n4                       Yes              2              -   \n\n  Uses.Computer.At.Relatives.House  ... Most.CS.Students.Are.Male  \\\n0                                -  ...                         -   \n1                                -  ...                         -   \n2                              Yes  ...                         -   \n3                                -  ...                         -   \n4                                -  ...                         -   \n\n  Educational.Stage.Middle.School Has.Used.Other.Softwares  \\\n0                               -                        -   \n1                               -                        -   \n2                               -                        -   \n3                               -                        -   \n4                               -                        -   \n\n  Has.Used.For.Development Has.Used.Spreadsheet Has.Used.Database  \\\n0                        -                    -                 -   \n1                        -                    -                 -   \n2                        -                    -                 -   \n3                        -                    -                 -   \n4                        -                    -                 -   \n\n  Field.Of.Interest.Biology.Health.Sciences Field.Of.Interest.Exact.Sciences  \\\n0                                         -                                -   \n1                                         -                                -   \n2                                         -                                -   \n3                                         -                                -   \n4                                         -                                -   \n\n  Educational.Stage.High.School.10th.Grade Field.Of.Interest.Human.Sciences  \n0                                        -                                -  \n1                                        -                                -  \n2                                        -                                -  \n3                                        -                                -  \n4                                        -                                -  \n\n[5 rows x 42 columns]",
      "text/html": "<div>\n<style scoped>\n    .dataframe tbody tr th:only-of-type {\n        vertical-align: middle;\n    }\n\n    .dataframe tbody tr th {\n        vertical-align: top;\n    }\n\n    .dataframe thead th {\n        text-align: right;\n    }\n</style>\n<table border=\"1\" class=\"dataframe\">\n  <thead>\n    <tr style=\"text-align: right;\">\n      <th></th>\n      <th>support (2011)</th>\n      <th>confidence (2011)</th>\n      <th>lift (2011)</th>\n      <th>count (2011)</th>\n      <th>Higher.Education.Required.To.Work.In.CS</th>\n      <th>Family.Approves.CS.Major</th>\n      <th>Would.Enroll.In.CS (2011)</th>\n      <th>No. Questions</th>\n      <th>Has.Used.Games</th>\n      <th>Uses.Computer.At.Relatives.House</th>\n      <th>...</th>\n      <th>Most.CS.Students.Are.Male</th>\n      <th>Educational.Stage.Middle.School</th>\n      <th>Has.Used.Other.Softwares</th>\n      <th>Has.Used.For.Development</th>\n      <th>Has.Used.Spreadsheet</th>\n      <th>Has.Used.Database</th>\n      <th>Field.Of.Interest.Biology.Health.Sciences</th>\n      <th>Field.Of.Interest.Exact.Sciences</th>\n      <th>Educational.Stage.High.School.10th.Grade</th>\n      <th>Field.Of.Interest.Human.Sciences</th>\n    </tr>\n  </thead>\n  <tbody>\n    <tr>\n      <th>0</th>\n      <td>0.127410</td>\n      <td>0.706107</td>\n      <td>1.579765</td>\n      <td>185</td>\n      <td>Yes</td>\n      <td>Yes</td>\n      <td>Yes</td>\n      <td>2</td>\n      <td>-</td>\n      <td>-</td>\n      <td>...</td>\n      <td>-</td>\n      <td>-</td>\n      <td>-</td>\n      <td>-</td>\n      <td>-</td>\n      <td>-</td>\n      <td>-</td>\n      <td>-</td>\n      <td>-</td>\n      <td>-</td>\n    </tr>\n    <tr>\n      <th>1</th>\n      <td>0.140496</td>\n      <td>0.684564</td>\n      <td>1.531566</td>\n      <td>204</td>\n      <td>-</td>\n      <td>Yes</td>\n      <td>Yes</td>\n      <td>2</td>\n      <td>Yes</td>\n      <td>-</td>\n      <td>...</td>\n      <td>-</td>\n      <td>-</td>\n      <td>-</td>\n      <td>-</td>\n      <td>-</td>\n      <td>-</td>\n      <td>-</td>\n      <td>-</td>\n      <td>-</td>\n      <td>-</td>\n    </tr>\n    <tr>\n      <th>2</th>\n      <td>0.128788</td>\n      <td>0.680000</td>\n      <td>1.521356</td>\n      <td>187</td>\n      <td>-</td>\n      <td>Yes</td>\n      <td>Yes</td>\n      <td>2</td>\n      <td>-</td>\n      <td>Yes</td>\n      <td>...</td>\n      <td>-</td>\n      <td>-</td>\n      <td>-</td>\n      <td>-</td>\n      <td>-</td>\n      <td>-</td>\n      <td>-</td>\n      <td>-</td>\n      <td>-</td>\n      <td>-</td>\n    </tr>\n    <tr>\n      <th>3</th>\n      <td>0.103306</td>\n      <td>0.678733</td>\n      <td>1.518521</td>\n      <td>150</td>\n      <td>-</td>\n      <td>Yes</td>\n      <td>Yes</td>\n      <td>2</td>\n      <td>-</td>\n      <td>-</td>\n      <td>...</td>\n      <td>-</td>\n      <td>-</td>\n      <td>-</td>\n      <td>-</td>\n      <td>-</td>\n      <td>-</td>\n      <td>-</td>\n      <td>-</td>\n      <td>-</td>\n      <td>-</td>\n    </tr>\n    <tr>\n      <th>4</th>\n      <td>0.130165</td>\n      <td>0.675000</td>\n      <td>1.510169</td>\n      <td>189</td>\n      <td>-</td>\n      <td>Yes</td>\n      <td>Yes</td>\n      <td>2</td>\n      <td>-</td>\n      <td>-</td>\n      <td>...</td>\n      <td>-</td>\n      <td>-</td>\n      <td>-</td>\n      <td>-</td>\n      <td>-</td>\n      <td>-</td>\n      <td>-</td>\n      <td>-</td>\n      <td>-</td>\n      <td>-</td>\n    </tr>\n  </tbody>\n</table>\n<p>5 rows × 42 columns</p>\n</div>"
     },
     "metadata": {},
     "execution_count": 10
    }
   ],
   "source": [
    "new2011 = generate_new_table(rules2011, '2011')\n",
    "new2011.head()"
   ]
  },
  {
   "cell_type": "code",
   "execution_count": 11,
   "metadata": {},
   "outputs": [
    {
     "output_type": "stream",
     "name": "stdout",
     "text": "<class 'pandas.core.frame.DataFrame'>\nRangeIndex: 1657 entries, 0 to 1656\nData columns (total 42 columns):\n #   Column                                     Non-Null Count  Dtype  \n---  ------                                     --------------  -----  \n 0   support (2011)                             1657 non-null   float64\n 1   confidence (2011)                          1657 non-null   float64\n 2   lift (2011)                                1657 non-null   float64\n 3   count (2011)                               1657 non-null   int64  \n 4   Higher.Education.Required.To.Work.In.CS    1657 non-null   object \n 5   Family.Approves.CS.Major                   1657 non-null   object \n 6   Would.Enroll.In.CS (2011)                  1657 non-null   object \n 7   No. Questions                              1657 non-null   int64  \n 8   Has.Used.Games                             1657 non-null   object \n 9   Uses.Computer.At.Relatives.House           1657 non-null   object \n 10  Uses.Computer.At.Lan.House                 1657 non-null   object \n 11  Uses.Computer.At.School                    1657 non-null   object \n 12  Has.Used.Text.Editor                       1657 non-null   object \n 13  CS.Enables.Interdisciplinary.Experiences   1657 non-null   object \n 14  CS.Fosters.Creativity                      1657 non-null   object \n 15  CS.Has.Low.Employability                   1657 non-null   object \n 16  CS.Work.Has.Long.Hours                     1657 non-null   object \n 17  Uses.Computer.At.Work                      1657 non-null   object \n 18  Uses.Computer.At.Friends.House             1657 non-null   object \n 19  Has.Used.Email                             1657 non-null   object \n 20  Has.Used.For.Creating.Web.Pages            1657 non-null   object \n 21  CS.Is.Prestigious                          1657 non-null   object \n 22  CS.Provides.Good.Wages                     1657 non-null   object \n 23  Has.Used.Internet                          1657 non-null   object \n 24  Has.Used.Social.Network                    1657 non-null   object \n 25  Uses.Computer.At.Home                      1657 non-null   object \n 26  Uses.Computer.At.Library                   1657 non-null   object \n 27  Uses.Computer.At.Digital.Inclusion.Center  1657 non-null   object \n 28  Has.Used.Image.Editor                      1657 non-null   object \n 29  CS.Uses.Little.Math                        1657 non-null   object \n 30  CS.Requires.Knowledge.In.Computers         1657 non-null   object \n 31  CS.Only.Teaches.To.Use.Software            1657 non-null   object \n 32  Most.CS.Students.Are.Male                  1657 non-null   object \n 33  Educational.Stage.Middle.School            1657 non-null   object \n 34  Has.Used.Other.Softwares                   1657 non-null   object \n 35  Has.Used.For.Development                   1657 non-null   object \n 36  Has.Used.Spreadsheet                       1657 non-null   object \n 37  Has.Used.Database                          1657 non-null   object \n 38  Field.Of.Interest.Biology.Health.Sciences  1657 non-null   object \n 39  Field.Of.Interest.Exact.Sciences           1657 non-null   object \n 40  Educational.Stage.High.School.10th.Grade   1657 non-null   object \n 41  Field.Of.Interest.Human.Sciences           1657 non-null   object \ndtypes: float64(3), int64(2), object(37)\nmemory usage: 543.8+ KB\n"
    }
   ],
   "source": [
    "new2011.info()"
   ]
  },
  {
   "cell_type": "code",
   "execution_count": 12,
   "metadata": {},
   "outputs": [
    {
     "output_type": "execute_result",
     "data": {
      "text/plain": "(1657, 42)"
     },
     "metadata": {},
     "execution_count": 12
    }
   ],
   "source": [
    "new2011.shape"
   ]
  },
  {
   "cell_type": "code",
   "execution_count": 13,
   "metadata": {},
   "outputs": [
    {
     "output_type": "stream",
     "name": "stdout",
     "text": "\n \n \n"
    },
    {
     "output_type": "execute_result",
     "data": {
      "text/plain": "   support (2019)  confidence (2019)  lift (2019)  count (2019)  \\\n0        0.106024           0.550000     2.113426            44   \n1        0.120482           0.537634     2.065910            50   \n2        0.108434           0.535714     2.058532            45   \n3        0.101205           0.531646     2.042897            42   \n4        0.106024           0.530120     2.037037            44   \n\n  Has.Used.Text.Editor Family.Approves.CS.Major Would.Enroll.In.CS (2019)  \\\n0                  Yes                       No                        No   \n1                    -                       No                        No   \n2                    -                       No                        No   \n3                    -                       No                        No   \n4                    -                       No                        No   \n\n   No. Questions Has.Used.Internet Has.Used.Other.Softwares  ...  \\\n0              2                 -                        -  ...   \n1              2               Yes                        -  ...   \n2              2                 -                       No  ...   \n3              2                 -                        -  ...   \n4              2                 -                        -  ...   \n\n  CS.Provides.Good.Wages CS.Requires.Knowledge.In.Computers  \\\n0                      -                                  -   \n1                      -                                  -   \n2                      -                                  -   \n3                      -                                  -   \n4                      -                                  -   \n\n  Educational.Stage.High.School.10th.Grade CS.Work.Has.Long.Hours  \\\n0                                        -                      -   \n1                                        -                      -   \n2                                        -                      -   \n3                                        -                      -   \n4                                        -                      -   \n\n  Has.Used.Spreadsheet Field.Of.Interest.Biology.Health.Sciences  \\\n0                    -                                         -   \n1                    -                                         -   \n2                    -                                         -   \n3                    -                                         -   \n4                    -                                         -   \n\n  Has.Used.Database Most.CS.Students.Are.Male Educational.Stage.Middle.School  \\\n0                 -                         -                               -   \n1                 -                         -                               -   \n2                 -                         -                               -   \n3                 -                         -                               -   \n4                 -                         -                               -   \n\n  Field.Of.Interest.Human.Sciences  \n0                                -  \n1                                -  \n2                                -  \n3                                -  \n4                                -  \n\n[5 rows x 41 columns]",
      "text/html": "<div>\n<style scoped>\n    .dataframe tbody tr th:only-of-type {\n        vertical-align: middle;\n    }\n\n    .dataframe tbody tr th {\n        vertical-align: top;\n    }\n\n    .dataframe thead th {\n        text-align: right;\n    }\n</style>\n<table border=\"1\" class=\"dataframe\">\n  <thead>\n    <tr style=\"text-align: right;\">\n      <th></th>\n      <th>support (2019)</th>\n      <th>confidence (2019)</th>\n      <th>lift (2019)</th>\n      <th>count (2019)</th>\n      <th>Has.Used.Text.Editor</th>\n      <th>Family.Approves.CS.Major</th>\n      <th>Would.Enroll.In.CS (2019)</th>\n      <th>No. Questions</th>\n      <th>Has.Used.Internet</th>\n      <th>Has.Used.Other.Softwares</th>\n      <th>...</th>\n      <th>CS.Provides.Good.Wages</th>\n      <th>CS.Requires.Knowledge.In.Computers</th>\n      <th>Educational.Stage.High.School.10th.Grade</th>\n      <th>CS.Work.Has.Long.Hours</th>\n      <th>Has.Used.Spreadsheet</th>\n      <th>Field.Of.Interest.Biology.Health.Sciences</th>\n      <th>Has.Used.Database</th>\n      <th>Most.CS.Students.Are.Male</th>\n      <th>Educational.Stage.Middle.School</th>\n      <th>Field.Of.Interest.Human.Sciences</th>\n    </tr>\n  </thead>\n  <tbody>\n    <tr>\n      <th>0</th>\n      <td>0.106024</td>\n      <td>0.550000</td>\n      <td>2.113426</td>\n      <td>44</td>\n      <td>Yes</td>\n      <td>No</td>\n      <td>No</td>\n      <td>2</td>\n      <td>-</td>\n      <td>-</td>\n      <td>...</td>\n      <td>-</td>\n      <td>-</td>\n      <td>-</td>\n      <td>-</td>\n      <td>-</td>\n      <td>-</td>\n      <td>-</td>\n      <td>-</td>\n      <td>-</td>\n      <td>-</td>\n    </tr>\n    <tr>\n      <th>1</th>\n      <td>0.120482</td>\n      <td>0.537634</td>\n      <td>2.065910</td>\n      <td>50</td>\n      <td>-</td>\n      <td>No</td>\n      <td>No</td>\n      <td>2</td>\n      <td>Yes</td>\n      <td>-</td>\n      <td>...</td>\n      <td>-</td>\n      <td>-</td>\n      <td>-</td>\n      <td>-</td>\n      <td>-</td>\n      <td>-</td>\n      <td>-</td>\n      <td>-</td>\n      <td>-</td>\n      <td>-</td>\n    </tr>\n    <tr>\n      <th>2</th>\n      <td>0.108434</td>\n      <td>0.535714</td>\n      <td>2.058532</td>\n      <td>45</td>\n      <td>-</td>\n      <td>No</td>\n      <td>No</td>\n      <td>2</td>\n      <td>-</td>\n      <td>No</td>\n      <td>...</td>\n      <td>-</td>\n      <td>-</td>\n      <td>-</td>\n      <td>-</td>\n      <td>-</td>\n      <td>-</td>\n      <td>-</td>\n      <td>-</td>\n      <td>-</td>\n      <td>-</td>\n    </tr>\n    <tr>\n      <th>3</th>\n      <td>0.101205</td>\n      <td>0.531646</td>\n      <td>2.042897</td>\n      <td>42</td>\n      <td>-</td>\n      <td>No</td>\n      <td>No</td>\n      <td>2</td>\n      <td>-</td>\n      <td>-</td>\n      <td>...</td>\n      <td>-</td>\n      <td>-</td>\n      <td>-</td>\n      <td>-</td>\n      <td>-</td>\n      <td>-</td>\n      <td>-</td>\n      <td>-</td>\n      <td>-</td>\n      <td>-</td>\n    </tr>\n    <tr>\n      <th>4</th>\n      <td>0.106024</td>\n      <td>0.530120</td>\n      <td>2.037037</td>\n      <td>44</td>\n      <td>-</td>\n      <td>No</td>\n      <td>No</td>\n      <td>2</td>\n      <td>-</td>\n      <td>-</td>\n      <td>...</td>\n      <td>-</td>\n      <td>-</td>\n      <td>-</td>\n      <td>-</td>\n      <td>-</td>\n      <td>-</td>\n      <td>-</td>\n      <td>-</td>\n      <td>-</td>\n      <td>-</td>\n    </tr>\n  </tbody>\n</table>\n<p>5 rows × 41 columns</p>\n</div>"
     },
     "metadata": {},
     "execution_count": 13
    }
   ],
   "source": [
    "new2019 = generate_new_table(rules2019, '2019')\n",
    "new2019.head()"
   ]
  },
  {
   "cell_type": "code",
   "execution_count": 14,
   "metadata": {},
   "outputs": [
    {
     "output_type": "stream",
     "name": "stdout",
     "text": "<class 'pandas.core.frame.DataFrame'>\nRangeIndex: 1813 entries, 0 to 1812\nData columns (total 41 columns):\n #   Column                                     Non-Null Count  Dtype  \n---  ------                                     --------------  -----  \n 0   support (2019)                             1813 non-null   float64\n 1   confidence (2019)                          1813 non-null   float64\n 2   lift (2019)                                1813 non-null   float64\n 3   count (2019)                               1813 non-null   int64  \n 4   Has.Used.Text.Editor                       1813 non-null   object \n 5   Family.Approves.CS.Major                   1813 non-null   object \n 6   Would.Enroll.In.CS (2019)                  1813 non-null   object \n 7   No. Questions                              1813 non-null   int64  \n 8   Has.Used.Internet                          1813 non-null   object \n 9   Has.Used.Other.Softwares                   1813 non-null   object \n 10  Has.Used.Games                             1813 non-null   object \n 11  Has.Used.Email                             1813 non-null   object \n 12  Uses.Computer.At.Work                      1813 non-null   object \n 13  Has.Used.For.Creating.Web.Pages            1813 non-null   object \n 14  Uses.Computer.At.Digital.Inclusion.Center  1813 non-null   object \n 15  Has.Used.Social.Network                    1813 non-null   object \n 16  Uses.Computer.At.Lan.House                 1813 non-null   object \n 17  Uses.Computer.At.Library                   1813 non-null   object \n 18  Has.Used.For.Development                   1813 non-null   object \n 19  CS.Enables.Interdisciplinary.Experiences   1813 non-null   object \n 20  CS.Fosters.Creativity                      1813 non-null   object \n 21  Uses.Computer.At.Relatives.House           1813 non-null   object \n 22  Higher.Education.Required.To.Work.In.CS    1813 non-null   object \n 23  Has.Used.Image.Editor                      1813 non-null   object \n 24  CS.Uses.Little.Math                        1813 non-null   object \n 25  CS.Is.Prestigious                          1813 non-null   object \n 26  Uses.Computer.At.Friends.House             1813 non-null   object \n 27  Uses.Computer.At.School                    1813 non-null   object \n 28  CS.Only.Teaches.To.Use.Software            1813 non-null   object \n 29  Uses.Computer.At.Home                      1813 non-null   object \n 30  CS.Has.Low.Employability                   1813 non-null   object \n 31  CS.Provides.Good.Wages                     1813 non-null   object \n 32  CS.Requires.Knowledge.In.Computers         1813 non-null   object \n 33  Educational.Stage.High.School.10th.Grade   1813 non-null   object \n 34  CS.Work.Has.Long.Hours                     1813 non-null   object \n 35  Has.Used.Spreadsheet                       1813 non-null   object \n 36  Field.Of.Interest.Biology.Health.Sciences  1813 non-null   object \n 37  Has.Used.Database                          1813 non-null   object \n 38  Most.CS.Students.Are.Male                  1813 non-null   object \n 39  Educational.Stage.Middle.School            1813 non-null   object \n 40  Field.Of.Interest.Human.Sciences           1813 non-null   object \ndtypes: float64(3), int64(2), object(36)\nmemory usage: 580.9+ KB\n"
    }
   ],
   "source": [
    "new2019.info()"
   ]
  },
  {
   "cell_type": "code",
   "execution_count": 15,
   "metadata": {},
   "outputs": [
    {
     "output_type": "execute_result",
     "data": {
      "text/plain": "(1813, 41)"
     },
     "metadata": {},
     "execution_count": 15
    }
   ],
   "source": [
    "new2019.shape"
   ]
  },
  {
   "cell_type": "code",
   "execution_count": 16,
   "metadata": {},
   "outputs": [
    {
     "output_type": "execute_result",
     "data": {
      "text/plain": "{'Field.Of.Interest.Exact.Sciences',\n 'Would.Enroll.In.CS (2011)',\n 'confidence (2011)',\n 'count (2011)',\n 'lift (2011)',\n 'support (2011)'}"
     },
     "metadata": {},
     "execution_count": 16
    }
   ],
   "source": [
    "set(new2011.columns) - set(new2019.columns)"
   ]
  },
  {
   "cell_type": "code",
   "execution_count": 17,
   "metadata": {},
   "outputs": [],
   "source": [
    "new2019['Field.Of.Interest.Exact.Sciences'] = '-'\n",
    "# new2019['Field.Of.Interest.Exact.Sciences'] = new2019['Field.Of.Interest.Exact.Sciences'].astype(object)"
   ]
  },
  {
   "cell_type": "code",
   "execution_count": 18,
   "metadata": {},
   "outputs": [
    {
     "output_type": "stream",
     "name": "stdout",
     "text": "<class 'pandas.core.frame.DataFrame'>\nRangeIndex: 1813 entries, 0 to 1812\nData columns (total 42 columns):\n #   Column                                     Non-Null Count  Dtype  \n---  ------                                     --------------  -----  \n 0   support (2019)                             1813 non-null   float64\n 1   confidence (2019)                          1813 non-null   float64\n 2   lift (2019)                                1813 non-null   float64\n 3   count (2019)                               1813 non-null   int64  \n 4   Has.Used.Text.Editor                       1813 non-null   object \n 5   Family.Approves.CS.Major                   1813 non-null   object \n 6   Would.Enroll.In.CS (2019)                  1813 non-null   object \n 7   No. Questions                              1813 non-null   int64  \n 8   Has.Used.Internet                          1813 non-null   object \n 9   Has.Used.Other.Softwares                   1813 non-null   object \n 10  Has.Used.Games                             1813 non-null   object \n 11  Has.Used.Email                             1813 non-null   object \n 12  Uses.Computer.At.Work                      1813 non-null   object \n 13  Has.Used.For.Creating.Web.Pages            1813 non-null   object \n 14  Uses.Computer.At.Digital.Inclusion.Center  1813 non-null   object \n 15  Has.Used.Social.Network                    1813 non-null   object \n 16  Uses.Computer.At.Lan.House                 1813 non-null   object \n 17  Uses.Computer.At.Library                   1813 non-null   object \n 18  Has.Used.For.Development                   1813 non-null   object \n 19  CS.Enables.Interdisciplinary.Experiences   1813 non-null   object \n 20  CS.Fosters.Creativity                      1813 non-null   object \n 21  Uses.Computer.At.Relatives.House           1813 non-null   object \n 22  Higher.Education.Required.To.Work.In.CS    1813 non-null   object \n 23  Has.Used.Image.Editor                      1813 non-null   object \n 24  CS.Uses.Little.Math                        1813 non-null   object \n 25  CS.Is.Prestigious                          1813 non-null   object \n 26  Uses.Computer.At.Friends.House             1813 non-null   object \n 27  Uses.Computer.At.School                    1813 non-null   object \n 28  CS.Only.Teaches.To.Use.Software            1813 non-null   object \n 29  Uses.Computer.At.Home                      1813 non-null   object \n 30  CS.Has.Low.Employability                   1813 non-null   object \n 31  CS.Provides.Good.Wages                     1813 non-null   object \n 32  CS.Requires.Knowledge.In.Computers         1813 non-null   object \n 33  Educational.Stage.High.School.10th.Grade   1813 non-null   object \n 34  CS.Work.Has.Long.Hours                     1813 non-null   object \n 35  Has.Used.Spreadsheet                       1813 non-null   object \n 36  Field.Of.Interest.Biology.Health.Sciences  1813 non-null   object \n 37  Has.Used.Database                          1813 non-null   object \n 38  Most.CS.Students.Are.Male                  1813 non-null   object \n 39  Educational.Stage.Middle.School            1813 non-null   object \n 40  Field.Of.Interest.Human.Sciences           1813 non-null   object \n 41  Field.Of.Interest.Exact.Sciences           1813 non-null   object \ndtypes: float64(3), int64(2), object(37)\nmemory usage: 595.0+ KB\n"
    }
   ],
   "source": [
    "new2019.info()"
   ]
  },
  {
   "cell_type": "code",
   "execution_count": 19,
   "metadata": {},
   "outputs": [
    {
     "output_type": "execute_result",
     "data": {
      "text/plain": "['Has.Used.Social.Network',\n 'Uses.Computer.At.Home',\n 'Higher.Education.Required.To.Work.In.CS',\n 'CS.Provides.Good.Wages',\n 'Uses.Computer.At.Lan.House',\n 'No. Questions',\n 'Has.Used.Spreadsheet',\n 'CS.Only.Teaches.To.Use.Software',\n 'CS.Fosters.Creativity',\n 'Has.Used.For.Development',\n 'CS.Requires.Knowledge.In.Computers',\n 'CS.Work.Has.Long.Hours',\n 'Family.Approves.CS.Major',\n 'Field.Of.Interest.Exact.Sciences',\n 'Most.CS.Students.Are.Male',\n 'Field.Of.Interest.Human.Sciences',\n 'Educational.Stage.Middle.School',\n 'CS.Enables.Interdisciplinary.Experiences',\n 'Uses.Computer.At.Library',\n 'Field.Of.Interest.Biology.Health.Sciences',\n 'CS.Has.Low.Employability',\n 'Educational.Stage.High.School.10th.Grade',\n 'Has.Used.Games',\n 'Uses.Computer.At.Relatives.House',\n 'Has.Used.Internet',\n 'Has.Used.Other.Softwares',\n 'Has.Used.For.Creating.Web.Pages',\n 'Has.Used.Image.Editor',\n 'Uses.Computer.At.Friends.House',\n 'CS.Is.Prestigious',\n 'CS.Uses.Little.Math',\n 'Uses.Computer.At.Work',\n 'Uses.Computer.At.Digital.Inclusion.Center',\n 'Uses.Computer.At.School',\n 'Has.Used.Email',\n 'Has.Used.Database',\n 'Has.Used.Text.Editor']"
     },
     "metadata": {},
     "execution_count": 19
    }
   ],
   "source": [
    "questions = list(set(new2011.columns).intersection(set(new2019.columns)))\n",
    "questions"
   ]
  },
  {
   "cell_type": "code",
   "execution_count": 20,
   "metadata": {},
   "outputs": [
    {
     "output_type": "execute_result",
     "data": {
      "text/plain": "(864, 42)"
     },
     "metadata": {},
     "execution_count": 20
    }
   ],
   "source": [
    "new2011.sort_values(by='lift (2011)', ascending=False, inplace=True)\n",
    "new2011 = new2011.groupby(by=questions).first().reset_index()\n",
    "new2011.shape"
   ]
  },
  {
   "cell_type": "code",
   "execution_count": 21,
   "metadata": {},
   "outputs": [
    {
     "output_type": "execute_result",
     "data": {
      "text/plain": "(912, 42)"
     },
     "metadata": {},
     "execution_count": 21
    }
   ],
   "source": [
    "new2019.sort_values(by='lift (2019)', ascending=False, inplace=True)\n",
    "new2019 = new2019.groupby(by=questions).first().reset_index()\n",
    "new2019.shape"
   ]
  },
  {
   "cell_type": "code",
   "execution_count": 22,
   "metadata": {},
   "outputs": [
    {
     "output_type": "stream",
     "name": "stdout",
     "text": "<class 'pandas.core.frame.DataFrame'>\nInt64Index: 695 entries, 0 to 694\nData columns (total 47 columns):\n #   Column                                     Non-Null Count  Dtype  \n---  ------                                     --------------  -----  \n 0   Has.Used.Social.Network                    695 non-null    object \n 1   Uses.Computer.At.Home                      695 non-null    object \n 2   Higher.Education.Required.To.Work.In.CS    695 non-null    object \n 3   CS.Provides.Good.Wages                     695 non-null    object \n 4   Uses.Computer.At.Lan.House                 695 non-null    object \n 5   No. Questions                              695 non-null    int64  \n 6   Has.Used.Spreadsheet                       695 non-null    object \n 7   CS.Only.Teaches.To.Use.Software            695 non-null    object \n 8   CS.Fosters.Creativity                      695 non-null    object \n 9   Has.Used.For.Development                   695 non-null    object \n 10  CS.Requires.Knowledge.In.Computers         695 non-null    object \n 11  CS.Work.Has.Long.Hours                     695 non-null    object \n 12  Family.Approves.CS.Major                   695 non-null    object \n 13  Field.Of.Interest.Exact.Sciences           695 non-null    object \n 14  Most.CS.Students.Are.Male                  695 non-null    object \n 15  Field.Of.Interest.Human.Sciences           695 non-null    object \n 16  Educational.Stage.Middle.School            695 non-null    object \n 17  CS.Enables.Interdisciplinary.Experiences   695 non-null    object \n 18  Uses.Computer.At.Library                   695 non-null    object \n 19  Field.Of.Interest.Biology.Health.Sciences  695 non-null    object \n 20  CS.Has.Low.Employability                   695 non-null    object \n 21  Educational.Stage.High.School.10th.Grade   695 non-null    object \n 22  Has.Used.Games                             695 non-null    object \n 23  Uses.Computer.At.Relatives.House           695 non-null    object \n 24  Has.Used.Internet                          695 non-null    object \n 25  Has.Used.Other.Softwares                   695 non-null    object \n 26  Has.Used.For.Creating.Web.Pages            695 non-null    object \n 27  Has.Used.Image.Editor                      695 non-null    object \n 28  Uses.Computer.At.Friends.House             695 non-null    object \n 29  CS.Is.Prestigious                          695 non-null    object \n 30  CS.Uses.Little.Math                        695 non-null    object \n 31  Uses.Computer.At.Work                      695 non-null    object \n 32  Uses.Computer.At.Digital.Inclusion.Center  695 non-null    object \n 33  Uses.Computer.At.School                    695 non-null    object \n 34  Has.Used.Email                             695 non-null    object \n 35  Has.Used.Database                          695 non-null    object \n 36  Has.Used.Text.Editor                       695 non-null    object \n 37  support (2011)                             695 non-null    float64\n 38  confidence (2011)                          695 non-null    float64\n 39  lift (2011)                                695 non-null    float64\n 40  count (2011)                               695 non-null    int64  \n 41  Would.Enroll.In.CS (2011)                  695 non-null    object \n 42  support (2019)                             695 non-null    float64\n 43  confidence (2019)                          695 non-null    float64\n 44  lift (2019)                                695 non-null    float64\n 45  count (2019)                               695 non-null    int64  \n 46  Would.Enroll.In.CS (2019)                  695 non-null    object \ndtypes: float64(6), int64(3), object(38)\nmemory usage: 260.6+ KB\n"
    }
   ],
   "source": [
    "merged = pd.merge(new2011, new2019, on=questions)\n",
    "merged.info()"
   ]
  },
  {
   "cell_type": "code",
   "execution_count": 23,
   "metadata": {},
   "outputs": [
    {
     "output_type": "execute_result",
     "data": {
      "text/plain": "    Has.Used.Social.Network Uses.Computer.At.Home  \\\n0                         -                     -   \n1                         -                     -   \n2                         -                     -   \n3                         -                     -   \n4                         -                     -   \n..                      ...                   ...   \n690                     Yes                     -   \n691                     Yes                     -   \n692                     Yes                     -   \n693                     Yes                     -   \n694                     Yes                   Yes   \n\n    Higher.Education.Required.To.Work.In.CS CS.Provides.Good.Wages  \\\n0                                         -                      -   \n1                                         -                      -   \n2                                         -                      -   \n3                                         -                      -   \n4                                         -                      -   \n..                                      ...                    ...   \n690                                       -                      -   \n691                                       -                  Maybe   \n692                                       -                    Yes   \n693                                     Yes                      -   \n694                                       -                      -   \n\n    Uses.Computer.At.Lan.House  No. Questions Has.Used.Spreadsheet  \\\n0                            -              1                    -   \n1                            -              1                    -   \n2                            -              1                    -   \n3                            -              1                    -   \n4                            -              1                    -   \n..                         ...            ...                  ...   \n690                        Yes              2                    -   \n691                          -              2                    -   \n692                          -              2                    -   \n693                          -              2                    -   \n694                          -              2                    -   \n\n    CS.Only.Teaches.To.Use.Software CS.Fosters.Creativity  \\\n0                                 -                     -   \n1                                 -                     -   \n2                                 -                     -   \n3                                 -                     -   \n4                                 -                     -   \n..                              ...                   ...   \n690                               -                     -   \n691                               -                     -   \n692                               -                     -   \n693                               -                     -   \n694                               -                     -   \n\n    Has.Used.For.Development  ... support (2011) confidence (2011)  \\\n0                          -  ...       0.188705          0.188705   \n1                          -  ...       0.167355          0.202838   \n2                          -  ...       0.311295          0.382079   \n3                          -  ...       0.174242          0.199842   \n4                          -  ...       0.275482          0.486618   \n..                       ...  ...            ...               ...   \n690                        -  ...       0.192837          0.504505   \n691                        -  ...       0.168044          0.408027   \n692                        -  ...       0.204545          0.479806   \n693                        -  ...       0.249311          0.506294   \n694                        -  ...       0.172176          0.209380   \n\n    lift (2011) count (2011) Would.Enroll.In.CS (2011) support (2019)  \\\n0      1.000000          274                        No       0.460241   \n1      1.074894          243                        No       0.359036   \n2      1.048732          452                     Maybe       0.390361   \n3      1.059017          253                        No       0.380723   \n4      1.088705          400                       Yes       0.236145   \n..          ...          ...                       ...            ...   \n690    1.128722          280                       Yes       0.115663   \n691    1.119952          244                     Maybe       0.253012   \n692    1.073465          297                       Yes       0.118072   \n693    1.132725          362                       Yes       0.175904   \n694    1.109562          250                        No       0.212048   \n\n    confidence (2019) lift (2019) count (2019) Would.Enroll.In.CS (2019)  \n0            0.460241    1.000000          191                     Maybe  \n1            0.462733    1.005414          149                     Maybe  \n2            0.472303    1.026209          162                     Maybe  \n3            0.470238    1.021722          158                     Maybe  \n4            0.303406    1.085460           98                       Yes  \n..                ...         ...          ...                       ...  \n690          0.466019    1.012555           48                     Maybe  \n691          0.514706    1.118340          105                     Maybe  \n692          0.318182    1.138323           49                       Yes  \n693          0.333333    1.192529           73                       Yes  \n694          0.277603    1.066713           88                        No  \n\n[695 rows x 47 columns]",
      "text/html": "<div>\n<style scoped>\n    .dataframe tbody tr th:only-of-type {\n        vertical-align: middle;\n    }\n\n    .dataframe tbody tr th {\n        vertical-align: top;\n    }\n\n    .dataframe thead th {\n        text-align: right;\n    }\n</style>\n<table border=\"1\" class=\"dataframe\">\n  <thead>\n    <tr style=\"text-align: right;\">\n      <th></th>\n      <th>Has.Used.Social.Network</th>\n      <th>Uses.Computer.At.Home</th>\n      <th>Higher.Education.Required.To.Work.In.CS</th>\n      <th>CS.Provides.Good.Wages</th>\n      <th>Uses.Computer.At.Lan.House</th>\n      <th>No. Questions</th>\n      <th>Has.Used.Spreadsheet</th>\n      <th>CS.Only.Teaches.To.Use.Software</th>\n      <th>CS.Fosters.Creativity</th>\n      <th>Has.Used.For.Development</th>\n      <th>...</th>\n      <th>support (2011)</th>\n      <th>confidence (2011)</th>\n      <th>lift (2011)</th>\n      <th>count (2011)</th>\n      <th>Would.Enroll.In.CS (2011)</th>\n      <th>support (2019)</th>\n      <th>confidence (2019)</th>\n      <th>lift (2019)</th>\n      <th>count (2019)</th>\n      <th>Would.Enroll.In.CS (2019)</th>\n    </tr>\n  </thead>\n  <tbody>\n    <tr>\n      <th>0</th>\n      <td>-</td>\n      <td>-</td>\n      <td>-</td>\n      <td>-</td>\n      <td>-</td>\n      <td>1</td>\n      <td>-</td>\n      <td>-</td>\n      <td>-</td>\n      <td>-</td>\n      <td>...</td>\n      <td>0.188705</td>\n      <td>0.188705</td>\n      <td>1.000000</td>\n      <td>274</td>\n      <td>No</td>\n      <td>0.460241</td>\n      <td>0.460241</td>\n      <td>1.000000</td>\n      <td>191</td>\n      <td>Maybe</td>\n    </tr>\n    <tr>\n      <th>1</th>\n      <td>-</td>\n      <td>-</td>\n      <td>-</td>\n      <td>-</td>\n      <td>-</td>\n      <td>1</td>\n      <td>-</td>\n      <td>-</td>\n      <td>-</td>\n      <td>-</td>\n      <td>...</td>\n      <td>0.167355</td>\n      <td>0.202838</td>\n      <td>1.074894</td>\n      <td>243</td>\n      <td>No</td>\n      <td>0.359036</td>\n      <td>0.462733</td>\n      <td>1.005414</td>\n      <td>149</td>\n      <td>Maybe</td>\n    </tr>\n    <tr>\n      <th>2</th>\n      <td>-</td>\n      <td>-</td>\n      <td>-</td>\n      <td>-</td>\n      <td>-</td>\n      <td>1</td>\n      <td>-</td>\n      <td>-</td>\n      <td>-</td>\n      <td>-</td>\n      <td>...</td>\n      <td>0.311295</td>\n      <td>0.382079</td>\n      <td>1.048732</td>\n      <td>452</td>\n      <td>Maybe</td>\n      <td>0.390361</td>\n      <td>0.472303</td>\n      <td>1.026209</td>\n      <td>162</td>\n      <td>Maybe</td>\n    </tr>\n    <tr>\n      <th>3</th>\n      <td>-</td>\n      <td>-</td>\n      <td>-</td>\n      <td>-</td>\n      <td>-</td>\n      <td>1</td>\n      <td>-</td>\n      <td>-</td>\n      <td>-</td>\n      <td>-</td>\n      <td>...</td>\n      <td>0.174242</td>\n      <td>0.199842</td>\n      <td>1.059017</td>\n      <td>253</td>\n      <td>No</td>\n      <td>0.380723</td>\n      <td>0.470238</td>\n      <td>1.021722</td>\n      <td>158</td>\n      <td>Maybe</td>\n    </tr>\n    <tr>\n      <th>4</th>\n      <td>-</td>\n      <td>-</td>\n      <td>-</td>\n      <td>-</td>\n      <td>-</td>\n      <td>1</td>\n      <td>-</td>\n      <td>-</td>\n      <td>-</td>\n      <td>-</td>\n      <td>...</td>\n      <td>0.275482</td>\n      <td>0.486618</td>\n      <td>1.088705</td>\n      <td>400</td>\n      <td>Yes</td>\n      <td>0.236145</td>\n      <td>0.303406</td>\n      <td>1.085460</td>\n      <td>98</td>\n      <td>Yes</td>\n    </tr>\n    <tr>\n      <th>...</th>\n      <td>...</td>\n      <td>...</td>\n      <td>...</td>\n      <td>...</td>\n      <td>...</td>\n      <td>...</td>\n      <td>...</td>\n      <td>...</td>\n      <td>...</td>\n      <td>...</td>\n      <td>...</td>\n      <td>...</td>\n      <td>...</td>\n      <td>...</td>\n      <td>...</td>\n      <td>...</td>\n      <td>...</td>\n      <td>...</td>\n      <td>...</td>\n      <td>...</td>\n      <td>...</td>\n    </tr>\n    <tr>\n      <th>690</th>\n      <td>Yes</td>\n      <td>-</td>\n      <td>-</td>\n      <td>-</td>\n      <td>Yes</td>\n      <td>2</td>\n      <td>-</td>\n      <td>-</td>\n      <td>-</td>\n      <td>-</td>\n      <td>...</td>\n      <td>0.192837</td>\n      <td>0.504505</td>\n      <td>1.128722</td>\n      <td>280</td>\n      <td>Yes</td>\n      <td>0.115663</td>\n      <td>0.466019</td>\n      <td>1.012555</td>\n      <td>48</td>\n      <td>Maybe</td>\n    </tr>\n    <tr>\n      <th>691</th>\n      <td>Yes</td>\n      <td>-</td>\n      <td>-</td>\n      <td>Maybe</td>\n      <td>-</td>\n      <td>2</td>\n      <td>-</td>\n      <td>-</td>\n      <td>-</td>\n      <td>-</td>\n      <td>...</td>\n      <td>0.168044</td>\n      <td>0.408027</td>\n      <td>1.119952</td>\n      <td>244</td>\n      <td>Maybe</td>\n      <td>0.253012</td>\n      <td>0.514706</td>\n      <td>1.118340</td>\n      <td>105</td>\n      <td>Maybe</td>\n    </tr>\n    <tr>\n      <th>692</th>\n      <td>Yes</td>\n      <td>-</td>\n      <td>-</td>\n      <td>Yes</td>\n      <td>-</td>\n      <td>2</td>\n      <td>-</td>\n      <td>-</td>\n      <td>-</td>\n      <td>-</td>\n      <td>...</td>\n      <td>0.204545</td>\n      <td>0.479806</td>\n      <td>1.073465</td>\n      <td>297</td>\n      <td>Yes</td>\n      <td>0.118072</td>\n      <td>0.318182</td>\n      <td>1.138323</td>\n      <td>49</td>\n      <td>Yes</td>\n    </tr>\n    <tr>\n      <th>693</th>\n      <td>Yes</td>\n      <td>-</td>\n      <td>Yes</td>\n      <td>-</td>\n      <td>-</td>\n      <td>2</td>\n      <td>-</td>\n      <td>-</td>\n      <td>-</td>\n      <td>-</td>\n      <td>...</td>\n      <td>0.249311</td>\n      <td>0.506294</td>\n      <td>1.132725</td>\n      <td>362</td>\n      <td>Yes</td>\n      <td>0.175904</td>\n      <td>0.333333</td>\n      <td>1.192529</td>\n      <td>73</td>\n      <td>Yes</td>\n    </tr>\n    <tr>\n      <th>694</th>\n      <td>Yes</td>\n      <td>Yes</td>\n      <td>-</td>\n      <td>-</td>\n      <td>-</td>\n      <td>2</td>\n      <td>-</td>\n      <td>-</td>\n      <td>-</td>\n      <td>-</td>\n      <td>...</td>\n      <td>0.172176</td>\n      <td>0.209380</td>\n      <td>1.109562</td>\n      <td>250</td>\n      <td>No</td>\n      <td>0.212048</td>\n      <td>0.277603</td>\n      <td>1.066713</td>\n      <td>88</td>\n      <td>No</td>\n    </tr>\n  </tbody>\n</table>\n<p>695 rows × 47 columns</p>\n</div>"
     },
     "metadata": {},
     "execution_count": 23
    }
   ],
   "source": [
    "merged"
   ]
  },
  {
   "cell_type": "code",
   "execution_count": 24,
   "metadata": {},
   "outputs": [
    {
     "output_type": "execute_result",
     "data": {
      "text/plain": "    Has.Used.Social.Network Uses.Computer.At.Home  \\\n0                         -                     -   \n1                         -                     -   \n2                         -                     -   \n3                         -                     -   \n4                         -                     -   \n..                      ...                   ...   \n690                       -                     -   \n691                       -                     -   \n692                       -                     -   \n693                       -                     -   \n694                       -                     -   \n\n    Higher.Education.Required.To.Work.In.CS CS.Provides.Good.Wages  \\\n0                                         -                      -   \n1                                         -                      -   \n2                                         -                      -   \n3                                         -                      -   \n4                                         -                      -   \n..                                      ...                    ...   \n690                                       -                      -   \n691                                       -                      -   \n692                                       -                      -   \n693                                       -                      -   \n694                                       -                      -   \n\n    Uses.Computer.At.Lan.House  No. Questions Has.Used.Spreadsheet  \\\n0                            -              2                    -   \n1                            -              2                    -   \n2                            -              2                    -   \n3                            -              2                    -   \n4                            -              2                    -   \n..                         ...            ...                  ...   \n690                          -              1                    -   \n691                          -              2                    -   \n692                          -              2                    -   \n693                          -              2                    -   \n694                          -              2                    -   \n\n    CS.Only.Teaches.To.Use.Software CS.Fosters.Creativity  \\\n0                                 -                     -   \n1                                 -                   Yes   \n2                                 -                     -   \n3                                 -                     -   \n4                                 -                     -   \n..                              ...                   ...   \n690                               -                     -   \n691                               -                     -   \n692                               -                   Yes   \n693                               -                     -   \n694                               -                     -   \n\n    Has.Used.For.Development  ... confidence (2011) lift (2011) count (2011)  \\\n0                          -  ...          0.663743    1.484984          227   \n1                          -  ...          0.660326    1.477340          243   \n2                          -  ...          0.656410    1.468579          256   \n3                          -  ...          0.640449    1.432870          228   \n4                          -  ...          0.648199    1.450209          234   \n..                       ...  ...               ...         ...          ...   \n690                        -  ...          0.489412    1.094955          208   \n691                        -  ...          0.383033    0.856956          149   \n692                        -  ...          0.384422    0.860063          153   \n693                        -  ...          0.405405    0.907009          165   \n694                        -  ...          0.416446    0.931709          157   \n\n    Would.Enroll.In.CS (2011) support (2019) confidence (2019) lift (2019)  \\\n0                         Yes       0.101205          0.442105    1.581670   \n1                         Yes       0.103614          0.438776    1.569757   \n2                         Yes       0.110843          0.429907    1.538028   \n3                         Yes       0.108434          0.432692    1.547994   \n4                         Yes       0.113253          0.427273    1.528605   \n..                        ...            ...               ...         ...   \n690                       Yes       0.101205          0.358974    0.779970   \n691                       Yes       0.125301          0.452174    0.982472   \n692                       Yes       0.113253          0.439252    0.954396   \n693                       Yes       0.106024          0.411215    0.893478   \n694                       Yes       0.108434          0.387931    0.842887   \n\n    count (2019) Would.Enroll.In.CS (2019)       wpm  \n0             42                       Yes  2.348754  \n1             43                       Yes  2.319065  \n2             46                       Yes  2.258715  \n3             45                       Yes  2.218074  \n4             47                       Yes  2.216797  \n..           ...                       ...       ...  \n690           42                     Maybe  0.854033  \n691           52                     Maybe  0.841935  \n692           47                     Maybe  0.820841  \n693           44                     Maybe  0.810392  \n694           45                     Maybe  0.785325  \n\n[695 rows x 48 columns]",
      "text/html": "<div>\n<style scoped>\n    .dataframe tbody tr th:only-of-type {\n        vertical-align: middle;\n    }\n\n    .dataframe tbody tr th {\n        vertical-align: top;\n    }\n\n    .dataframe thead th {\n        text-align: right;\n    }\n</style>\n<table border=\"1\" class=\"dataframe\">\n  <thead>\n    <tr style=\"text-align: right;\">\n      <th></th>\n      <th>Has.Used.Social.Network</th>\n      <th>Uses.Computer.At.Home</th>\n      <th>Higher.Education.Required.To.Work.In.CS</th>\n      <th>CS.Provides.Good.Wages</th>\n      <th>Uses.Computer.At.Lan.House</th>\n      <th>No. Questions</th>\n      <th>Has.Used.Spreadsheet</th>\n      <th>CS.Only.Teaches.To.Use.Software</th>\n      <th>CS.Fosters.Creativity</th>\n      <th>Has.Used.For.Development</th>\n      <th>...</th>\n      <th>confidence (2011)</th>\n      <th>lift (2011)</th>\n      <th>count (2011)</th>\n      <th>Would.Enroll.In.CS (2011)</th>\n      <th>support (2019)</th>\n      <th>confidence (2019)</th>\n      <th>lift (2019)</th>\n      <th>count (2019)</th>\n      <th>Would.Enroll.In.CS (2019)</th>\n      <th>wpm</th>\n    </tr>\n  </thead>\n  <tbody>\n    <tr>\n      <th>0</th>\n      <td>-</td>\n      <td>-</td>\n      <td>-</td>\n      <td>-</td>\n      <td>-</td>\n      <td>2</td>\n      <td>-</td>\n      <td>-</td>\n      <td>-</td>\n      <td>-</td>\n      <td>...</td>\n      <td>0.663743</td>\n      <td>1.484984</td>\n      <td>227</td>\n      <td>Yes</td>\n      <td>0.101205</td>\n      <td>0.442105</td>\n      <td>1.581670</td>\n      <td>42</td>\n      <td>Yes</td>\n      <td>2.348754</td>\n    </tr>\n    <tr>\n      <th>1</th>\n      <td>-</td>\n      <td>-</td>\n      <td>-</td>\n      <td>-</td>\n      <td>-</td>\n      <td>2</td>\n      <td>-</td>\n      <td>-</td>\n      <td>Yes</td>\n      <td>-</td>\n      <td>...</td>\n      <td>0.660326</td>\n      <td>1.477340</td>\n      <td>243</td>\n      <td>Yes</td>\n      <td>0.103614</td>\n      <td>0.438776</td>\n      <td>1.569757</td>\n      <td>43</td>\n      <td>Yes</td>\n      <td>2.319065</td>\n    </tr>\n    <tr>\n      <th>2</th>\n      <td>-</td>\n      <td>-</td>\n      <td>-</td>\n      <td>-</td>\n      <td>-</td>\n      <td>2</td>\n      <td>-</td>\n      <td>-</td>\n      <td>-</td>\n      <td>-</td>\n      <td>...</td>\n      <td>0.656410</td>\n      <td>1.468579</td>\n      <td>256</td>\n      <td>Yes</td>\n      <td>0.110843</td>\n      <td>0.429907</td>\n      <td>1.538028</td>\n      <td>46</td>\n      <td>Yes</td>\n      <td>2.258715</td>\n    </tr>\n    <tr>\n      <th>3</th>\n      <td>-</td>\n      <td>-</td>\n      <td>-</td>\n      <td>-</td>\n      <td>-</td>\n      <td>2</td>\n      <td>-</td>\n      <td>-</td>\n      <td>-</td>\n      <td>-</td>\n      <td>...</td>\n      <td>0.640449</td>\n      <td>1.432870</td>\n      <td>228</td>\n      <td>Yes</td>\n      <td>0.108434</td>\n      <td>0.432692</td>\n      <td>1.547994</td>\n      <td>45</td>\n      <td>Yes</td>\n      <td>2.218074</td>\n    </tr>\n    <tr>\n      <th>4</th>\n      <td>-</td>\n      <td>-</td>\n      <td>-</td>\n      <td>-</td>\n      <td>-</td>\n      <td>2</td>\n      <td>-</td>\n      <td>-</td>\n      <td>-</td>\n      <td>-</td>\n      <td>...</td>\n      <td>0.648199</td>\n      <td>1.450209</td>\n      <td>234</td>\n      <td>Yes</td>\n      <td>0.113253</td>\n      <td>0.427273</td>\n      <td>1.528605</td>\n      <td>47</td>\n      <td>Yes</td>\n      <td>2.216797</td>\n    </tr>\n    <tr>\n      <th>...</th>\n      <td>...</td>\n      <td>...</td>\n      <td>...</td>\n      <td>...</td>\n      <td>...</td>\n      <td>...</td>\n      <td>...</td>\n      <td>...</td>\n      <td>...</td>\n      <td>...</td>\n      <td>...</td>\n      <td>...</td>\n      <td>...</td>\n      <td>...</td>\n      <td>...</td>\n      <td>...</td>\n      <td>...</td>\n      <td>...</td>\n      <td>...</td>\n      <td>...</td>\n      <td>...</td>\n    </tr>\n    <tr>\n      <th>690</th>\n      <td>-</td>\n      <td>-</td>\n      <td>-</td>\n      <td>-</td>\n      <td>-</td>\n      <td>1</td>\n      <td>-</td>\n      <td>-</td>\n      <td>-</td>\n      <td>-</td>\n      <td>...</td>\n      <td>0.489412</td>\n      <td>1.094955</td>\n      <td>208</td>\n      <td>Yes</td>\n      <td>0.101205</td>\n      <td>0.358974</td>\n      <td>0.779970</td>\n      <td>42</td>\n      <td>Maybe</td>\n      <td>0.854033</td>\n    </tr>\n    <tr>\n      <th>691</th>\n      <td>-</td>\n      <td>-</td>\n      <td>-</td>\n      <td>-</td>\n      <td>-</td>\n      <td>2</td>\n      <td>-</td>\n      <td>-</td>\n      <td>-</td>\n      <td>-</td>\n      <td>...</td>\n      <td>0.383033</td>\n      <td>0.856956</td>\n      <td>149</td>\n      <td>Yes</td>\n      <td>0.125301</td>\n      <td>0.452174</td>\n      <td>0.982472</td>\n      <td>52</td>\n      <td>Maybe</td>\n      <td>0.841935</td>\n    </tr>\n    <tr>\n      <th>692</th>\n      <td>-</td>\n      <td>-</td>\n      <td>-</td>\n      <td>-</td>\n      <td>-</td>\n      <td>2</td>\n      <td>-</td>\n      <td>-</td>\n      <td>Yes</td>\n      <td>-</td>\n      <td>...</td>\n      <td>0.384422</td>\n      <td>0.860063</td>\n      <td>153</td>\n      <td>Yes</td>\n      <td>0.113253</td>\n      <td>0.439252</td>\n      <td>0.954396</td>\n      <td>47</td>\n      <td>Maybe</td>\n      <td>0.820841</td>\n    </tr>\n    <tr>\n      <th>693</th>\n      <td>-</td>\n      <td>-</td>\n      <td>-</td>\n      <td>-</td>\n      <td>-</td>\n      <td>2</td>\n      <td>-</td>\n      <td>-</td>\n      <td>-</td>\n      <td>-</td>\n      <td>...</td>\n      <td>0.405405</td>\n      <td>0.907009</td>\n      <td>165</td>\n      <td>Yes</td>\n      <td>0.106024</td>\n      <td>0.411215</td>\n      <td>0.893478</td>\n      <td>44</td>\n      <td>Maybe</td>\n      <td>0.810392</td>\n    </tr>\n    <tr>\n      <th>694</th>\n      <td>-</td>\n      <td>-</td>\n      <td>-</td>\n      <td>-</td>\n      <td>-</td>\n      <td>2</td>\n      <td>-</td>\n      <td>-</td>\n      <td>-</td>\n      <td>-</td>\n      <td>...</td>\n      <td>0.416446</td>\n      <td>0.931709</td>\n      <td>157</td>\n      <td>Yes</td>\n      <td>0.108434</td>\n      <td>0.387931</td>\n      <td>0.842887</td>\n      <td>45</td>\n      <td>Maybe</td>\n      <td>0.785325</td>\n    </tr>\n  </tbody>\n</table>\n<p>695 rows × 48 columns</p>\n</div>"
     },
     "metadata": {},
     "execution_count": 24
    }
   ],
   "source": [
    "merged['wpm'] = merged['lift (2011)'] * merged['lift (2019)']\n",
    "merged.sort_values(by='wpm', ascending=False, inplace=True)\n",
    "merged.reset_index(drop=True, inplace=True)\n",
    "merged"
   ]
  },
  {
   "cell_type": "code",
   "execution_count": 25,
   "metadata": {},
   "outputs": [
    {
     "output_type": "execute_result",
     "data": {
      "text/plain": "   No. Questions CS.Fosters.Creativity Family.Approves.CS.Major  \\\n0              2                     -                      Yes   \n1              2                   Yes                      Yes   \n2              2                     -                      Yes   \n3              2                     -                      Yes   \n4              2                     -                      Yes   \n\n  CS.Enables.Interdisciplinary.Experiences Uses.Computer.At.Library  \\\n0                                      Yes                        -   \n1                                        -                        -   \n2                                        -                        -   \n3                                        -                       No   \n4                                        -                        -   \n\n  Has.Used.Internet Uses.Computer.At.Work  support (2011)  confidence (2011)  \\\n0                 -                     -        0.156336           0.663743   \n1                 -                     -        0.167355           0.660326   \n2                 -                    No        0.176309           0.656410   \n3                 -                     -        0.157025           0.640449   \n4               Yes                     -        0.161157           0.648199   \n\n   lift (2011)  count (2011) Would.Enroll.In.CS (2011)  support (2019)  \\\n0     1.484984           227                       Yes        0.101205   \n1     1.477340           243                       Yes        0.103614   \n2     1.468579           256                       Yes        0.110843   \n3     1.432870           228                       Yes        0.108434   \n4     1.450209           234                       Yes        0.113253   \n\n   confidence (2019)  lift (2019)  count (2019) Would.Enroll.In.CS (2019)  \\\n0           0.442105     1.581670            42                       Yes   \n1           0.438776     1.569757            43                       Yes   \n2           0.429907     1.538028            46                       Yes   \n3           0.432692     1.547994            45                       Yes   \n4           0.427273     1.528605            47                       Yes   \n\n        wpm  \n0  2.348754  \n1  2.319065  \n2  2.258715  \n3  2.218074  \n4  2.216797  ",
      "text/html": "<div>\n<style scoped>\n    .dataframe tbody tr th:only-of-type {\n        vertical-align: middle;\n    }\n\n    .dataframe tbody tr th {\n        vertical-align: top;\n    }\n\n    .dataframe thead th {\n        text-align: right;\n    }\n</style>\n<table border=\"1\" class=\"dataframe\">\n  <thead>\n    <tr style=\"text-align: right;\">\n      <th></th>\n      <th>No. Questions</th>\n      <th>CS.Fosters.Creativity</th>\n      <th>Family.Approves.CS.Major</th>\n      <th>CS.Enables.Interdisciplinary.Experiences</th>\n      <th>Uses.Computer.At.Library</th>\n      <th>Has.Used.Internet</th>\n      <th>Uses.Computer.At.Work</th>\n      <th>support (2011)</th>\n      <th>confidence (2011)</th>\n      <th>lift (2011)</th>\n      <th>count (2011)</th>\n      <th>Would.Enroll.In.CS (2011)</th>\n      <th>support (2019)</th>\n      <th>confidence (2019)</th>\n      <th>lift (2019)</th>\n      <th>count (2019)</th>\n      <th>Would.Enroll.In.CS (2019)</th>\n      <th>wpm</th>\n    </tr>\n  </thead>\n  <tbody>\n    <tr>\n      <th>0</th>\n      <td>2</td>\n      <td>-</td>\n      <td>Yes</td>\n      <td>Yes</td>\n      <td>-</td>\n      <td>-</td>\n      <td>-</td>\n      <td>0.156336</td>\n      <td>0.663743</td>\n      <td>1.484984</td>\n      <td>227</td>\n      <td>Yes</td>\n      <td>0.101205</td>\n      <td>0.442105</td>\n      <td>1.581670</td>\n      <td>42</td>\n      <td>Yes</td>\n      <td>2.348754</td>\n    </tr>\n    <tr>\n      <th>1</th>\n      <td>2</td>\n      <td>Yes</td>\n      <td>Yes</td>\n      <td>-</td>\n      <td>-</td>\n      <td>-</td>\n      <td>-</td>\n      <td>0.167355</td>\n      <td>0.660326</td>\n      <td>1.477340</td>\n      <td>243</td>\n      <td>Yes</td>\n      <td>0.103614</td>\n      <td>0.438776</td>\n      <td>1.569757</td>\n      <td>43</td>\n      <td>Yes</td>\n      <td>2.319065</td>\n    </tr>\n    <tr>\n      <th>2</th>\n      <td>2</td>\n      <td>-</td>\n      <td>Yes</td>\n      <td>-</td>\n      <td>-</td>\n      <td>-</td>\n      <td>No</td>\n      <td>0.176309</td>\n      <td>0.656410</td>\n      <td>1.468579</td>\n      <td>256</td>\n      <td>Yes</td>\n      <td>0.110843</td>\n      <td>0.429907</td>\n      <td>1.538028</td>\n      <td>46</td>\n      <td>Yes</td>\n      <td>2.258715</td>\n    </tr>\n    <tr>\n      <th>3</th>\n      <td>2</td>\n      <td>-</td>\n      <td>Yes</td>\n      <td>-</td>\n      <td>No</td>\n      <td>-</td>\n      <td>-</td>\n      <td>0.157025</td>\n      <td>0.640449</td>\n      <td>1.432870</td>\n      <td>228</td>\n      <td>Yes</td>\n      <td>0.108434</td>\n      <td>0.432692</td>\n      <td>1.547994</td>\n      <td>45</td>\n      <td>Yes</td>\n      <td>2.218074</td>\n    </tr>\n    <tr>\n      <th>4</th>\n      <td>2</td>\n      <td>-</td>\n      <td>Yes</td>\n      <td>-</td>\n      <td>-</td>\n      <td>Yes</td>\n      <td>-</td>\n      <td>0.161157</td>\n      <td>0.648199</td>\n      <td>1.450209</td>\n      <td>234</td>\n      <td>Yes</td>\n      <td>0.113253</td>\n      <td>0.427273</td>\n      <td>1.528605</td>\n      <td>47</td>\n      <td>Yes</td>\n      <td>2.216797</td>\n    </tr>\n  </tbody>\n</table>\n</div>"
     },
     "metadata": {},
     "execution_count": 25
    }
   ],
   "source": [
    "kept = merged.loc[merged['Would.Enroll.In.CS (2011)'] == merged['Would.Enroll.In.CS (2019)']]\n",
    "kept.reset_index(drop=True,inplace=True)\n",
    "kept.head(5).replace('-', np.nan).dropna(axis=1, how='all').fillna('-')"
   ]
  },
  {
   "cell_type": "code",
   "execution_count": 26,
   "metadata": {},
   "outputs": [
    {
     "output_type": "execute_result",
     "data": {
      "text/plain": "   No. Questions Has.Used.For.Development Family.Approves.CS.Major  \\\n0              2                        -                      Yes   \n1              2                        -                      Yes   \n2              2                        -                        -   \n3              2                        -                        -   \n4              2                       No                      Yes   \n\n  CS.Has.Low.Employability Uses.Computer.At.Relatives.House  \\\n0                        -                                -   \n1                        -                                -   \n2                        -                              Yes   \n3                    Maybe                                -   \n4                        -                                -   \n\n  Has.Used.Other.Softwares CS.Is.Prestigious Has.Used.Email  \\\n0                        -                 -            Yes   \n1                        -                 -              -   \n2                        -               Yes              -   \n3                       No                 -              -   \n4                        -                 -              -   \n\n  Has.Used.Text.Editor  support (2011)  confidence (2011)  lift (2011)  \\\n0                    -        0.165289           0.653951     1.463077   \n1                  Yes        0.152893           0.666667     1.491525   \n2                    -        0.154959           0.380711     1.044975   \n3                    -        0.106749           0.455882     1.251307   \n4                    -        0.140496           0.620061     1.387255   \n\n   count (2011) Would.Enroll.In.CS (2011)  support (2019)  confidence (2019)  \\\n0           240                       Yes        0.108434           0.483871   \n1           222                       Yes        0.103614           0.472527   \n2           225                     Maybe        0.106024           0.407407   \n3           155                     Maybe        0.101205           0.300000   \n4           204                       Yes        0.115663           0.475248   \n\n   lift (2019)  count (2019) Would.Enroll.In.CS (2019)       wpm  \n0     1.051343            45                     Maybe  1.538195  \n1     1.026696            43                     Maybe  1.531343  \n2     1.457535            44                       Yes  1.523088  \n3     1.152778            42                        No  1.442478  \n4     1.032606            48                     Maybe  1.432487  ",
      "text/html": "<div>\n<style scoped>\n    .dataframe tbody tr th:only-of-type {\n        vertical-align: middle;\n    }\n\n    .dataframe tbody tr th {\n        vertical-align: top;\n    }\n\n    .dataframe thead th {\n        text-align: right;\n    }\n</style>\n<table border=\"1\" class=\"dataframe\">\n  <thead>\n    <tr style=\"text-align: right;\">\n      <th></th>\n      <th>No. Questions</th>\n      <th>Has.Used.For.Development</th>\n      <th>Family.Approves.CS.Major</th>\n      <th>CS.Has.Low.Employability</th>\n      <th>Uses.Computer.At.Relatives.House</th>\n      <th>Has.Used.Other.Softwares</th>\n      <th>CS.Is.Prestigious</th>\n      <th>Has.Used.Email</th>\n      <th>Has.Used.Text.Editor</th>\n      <th>support (2011)</th>\n      <th>confidence (2011)</th>\n      <th>lift (2011)</th>\n      <th>count (2011)</th>\n      <th>Would.Enroll.In.CS (2011)</th>\n      <th>support (2019)</th>\n      <th>confidence (2019)</th>\n      <th>lift (2019)</th>\n      <th>count (2019)</th>\n      <th>Would.Enroll.In.CS (2019)</th>\n      <th>wpm</th>\n    </tr>\n  </thead>\n  <tbody>\n    <tr>\n      <th>0</th>\n      <td>2</td>\n      <td>-</td>\n      <td>Yes</td>\n      <td>-</td>\n      <td>-</td>\n      <td>-</td>\n      <td>-</td>\n      <td>Yes</td>\n      <td>-</td>\n      <td>0.165289</td>\n      <td>0.653951</td>\n      <td>1.463077</td>\n      <td>240</td>\n      <td>Yes</td>\n      <td>0.108434</td>\n      <td>0.483871</td>\n      <td>1.051343</td>\n      <td>45</td>\n      <td>Maybe</td>\n      <td>1.538195</td>\n    </tr>\n    <tr>\n      <th>1</th>\n      <td>2</td>\n      <td>-</td>\n      <td>Yes</td>\n      <td>-</td>\n      <td>-</td>\n      <td>-</td>\n      <td>-</td>\n      <td>-</td>\n      <td>Yes</td>\n      <td>0.152893</td>\n      <td>0.666667</td>\n      <td>1.491525</td>\n      <td>222</td>\n      <td>Yes</td>\n      <td>0.103614</td>\n      <td>0.472527</td>\n      <td>1.026696</td>\n      <td>43</td>\n      <td>Maybe</td>\n      <td>1.531343</td>\n    </tr>\n    <tr>\n      <th>2</th>\n      <td>2</td>\n      <td>-</td>\n      <td>-</td>\n      <td>-</td>\n      <td>Yes</td>\n      <td>-</td>\n      <td>Yes</td>\n      <td>-</td>\n      <td>-</td>\n      <td>0.154959</td>\n      <td>0.380711</td>\n      <td>1.044975</td>\n      <td>225</td>\n      <td>Maybe</td>\n      <td>0.106024</td>\n      <td>0.407407</td>\n      <td>1.457535</td>\n      <td>44</td>\n      <td>Yes</td>\n      <td>1.523088</td>\n    </tr>\n    <tr>\n      <th>3</th>\n      <td>2</td>\n      <td>-</td>\n      <td>-</td>\n      <td>Maybe</td>\n      <td>-</td>\n      <td>No</td>\n      <td>-</td>\n      <td>-</td>\n      <td>-</td>\n      <td>0.106749</td>\n      <td>0.455882</td>\n      <td>1.251307</td>\n      <td>155</td>\n      <td>Maybe</td>\n      <td>0.101205</td>\n      <td>0.300000</td>\n      <td>1.152778</td>\n      <td>42</td>\n      <td>No</td>\n      <td>1.442478</td>\n    </tr>\n    <tr>\n      <th>4</th>\n      <td>2</td>\n      <td>No</td>\n      <td>Yes</td>\n      <td>-</td>\n      <td>-</td>\n      <td>-</td>\n      <td>-</td>\n      <td>-</td>\n      <td>-</td>\n      <td>0.140496</td>\n      <td>0.620061</td>\n      <td>1.387255</td>\n      <td>204</td>\n      <td>Yes</td>\n      <td>0.115663</td>\n      <td>0.475248</td>\n      <td>1.032606</td>\n      <td>48</td>\n      <td>Maybe</td>\n      <td>1.432487</td>\n    </tr>\n  </tbody>\n</table>\n</div>"
     },
     "metadata": {},
     "execution_count": 26
    }
   ],
   "source": [
    "changed = merged.loc[merged['Would.Enroll.In.CS (2011)'] != merged['Would.Enroll.In.CS (2019)']]\n",
    "changed.reset_index(drop=True, inplace=True)\n",
    "changed.head(5).replace('-', np.nan).dropna(axis=1, how='all').fillna('-')"
   ]
  },
  {
   "cell_type": "code",
   "execution_count": 27,
   "metadata": {},
   "outputs": [
    {
     "output_type": "execute_result",
     "data": {
      "text/plain": "    No. Questions Family.Approves.CS.Major  support (2011)  confidence (2011)  \\\n5               1                      Yes        0.202479           0.654788   \n46              1                    Maybe        0.200413           0.483389   \n\n    lift (2011)  count (2011) Would.Enroll.In.CS (2011)  support (2019)  \\\n5      1.464950           294                       Yes        0.118072   \n46     1.326806           291                     Maybe        0.245783   \n\n    confidence (2019)  lift (2019)  count (2019) Would.Enroll.In.CS (2019)  \\\n5            0.415254     1.485608            49                       Yes   \n46           0.525773     1.142387           102                     Maybe   \n\n         wpm  \n5   2.176342  \n46  1.515726  ",
      "text/html": "<div>\n<style scoped>\n    .dataframe tbody tr th:only-of-type {\n        vertical-align: middle;\n    }\n\n    .dataframe tbody tr th {\n        vertical-align: top;\n    }\n\n    .dataframe thead th {\n        text-align: right;\n    }\n</style>\n<table border=\"1\" class=\"dataframe\">\n  <thead>\n    <tr style=\"text-align: right;\">\n      <th></th>\n      <th>No. Questions</th>\n      <th>Family.Approves.CS.Major</th>\n      <th>support (2011)</th>\n      <th>confidence (2011)</th>\n      <th>lift (2011)</th>\n      <th>count (2011)</th>\n      <th>Would.Enroll.In.CS (2011)</th>\n      <th>support (2019)</th>\n      <th>confidence (2019)</th>\n      <th>lift (2019)</th>\n      <th>count (2019)</th>\n      <th>Would.Enroll.In.CS (2019)</th>\n      <th>wpm</th>\n    </tr>\n  </thead>\n  <tbody>\n    <tr>\n      <th>5</th>\n      <td>1</td>\n      <td>Yes</td>\n      <td>0.202479</td>\n      <td>0.654788</td>\n      <td>1.464950</td>\n      <td>294</td>\n      <td>Yes</td>\n      <td>0.118072</td>\n      <td>0.415254</td>\n      <td>1.485608</td>\n      <td>49</td>\n      <td>Yes</td>\n      <td>2.176342</td>\n    </tr>\n    <tr>\n      <th>46</th>\n      <td>1</td>\n      <td>Maybe</td>\n      <td>0.200413</td>\n      <td>0.483389</td>\n      <td>1.326806</td>\n      <td>291</td>\n      <td>Maybe</td>\n      <td>0.245783</td>\n      <td>0.525773</td>\n      <td>1.142387</td>\n      <td>102</td>\n      <td>Maybe</td>\n      <td>1.515726</td>\n    </tr>\n  </tbody>\n</table>\n</div>"
     },
     "metadata": {},
     "execution_count": 27
    }
   ],
   "source": [
    "merged.loc[(merged['No. Questions'] == 1) & (merged['Family.Approves.CS.Major'] != '-')].replace('-', np.nan).dropna(axis=1, how='all').fillna('-')"
   ]
  },
  {
   "cell_type": "code",
   "execution_count": 31,
   "metadata": {},
   "outputs": [
    {
     "output_type": "execute_result",
     "data": {
      "text/plain": "    No. Questions Family.Approves.CS.Major  support (2011)  confidence (2011)  \\\n37              1                    Maybe        0.200413           0.483389   \n38              1                      Yes        0.202479           0.654788   \n\n    lift (2011)  count (2011) Would.Enroll.In.CS (2011)  \n37     1.326806           291                     Maybe  \n38     1.464950           294                       Yes  ",
      "text/html": "<div>\n<style scoped>\n    .dataframe tbody tr th:only-of-type {\n        vertical-align: middle;\n    }\n\n    .dataframe tbody tr th {\n        vertical-align: top;\n    }\n\n    .dataframe thead th {\n        text-align: right;\n    }\n</style>\n<table border=\"1\" class=\"dataframe\">\n  <thead>\n    <tr style=\"text-align: right;\">\n      <th></th>\n      <th>No. Questions</th>\n      <th>Family.Approves.CS.Major</th>\n      <th>support (2011)</th>\n      <th>confidence (2011)</th>\n      <th>lift (2011)</th>\n      <th>count (2011)</th>\n      <th>Would.Enroll.In.CS (2011)</th>\n    </tr>\n  </thead>\n  <tbody>\n    <tr>\n      <th>37</th>\n      <td>1</td>\n      <td>Maybe</td>\n      <td>0.200413</td>\n      <td>0.483389</td>\n      <td>1.326806</td>\n      <td>291</td>\n      <td>Maybe</td>\n    </tr>\n    <tr>\n      <th>38</th>\n      <td>1</td>\n      <td>Yes</td>\n      <td>0.202479</td>\n      <td>0.654788</td>\n      <td>1.464950</td>\n      <td>294</td>\n      <td>Yes</td>\n    </tr>\n  </tbody>\n</table>\n</div>"
     },
     "metadata": {},
     "execution_count": 31
    }
   ],
   "source": [
    "new2011.loc[(new2011['No. Questions'] == 1) & (new2011['Family.Approves.CS.Major'] != '-')].replace('-', np.nan).dropna(axis=1, how='all').fillna('-')"
   ]
  },
  {
   "cell_type": "code",
   "execution_count": 32,
   "metadata": {},
   "outputs": [
    {
     "output_type": "execute_result",
     "data": {
      "text/plain": "Empty DataFrame\nColumns: [Has.Used.Social.Network, Uses.Computer.At.Home, Higher.Education.Required.To.Work.In.CS, CS.Provides.Good.Wages, Uses.Computer.At.Lan.House, No. Questions, Has.Used.Spreadsheet, CS.Only.Teaches.To.Use.Software, CS.Fosters.Creativity, Has.Used.For.Development, CS.Requires.Knowledge.In.Computers, CS.Work.Has.Long.Hours, Family.Approves.CS.Major, Field.Of.Interest.Exact.Sciences, Most.CS.Students.Are.Male, Field.Of.Interest.Human.Sciences, Educational.Stage.Middle.School, CS.Enables.Interdisciplinary.Experiences, Uses.Computer.At.Library, Field.Of.Interest.Biology.Health.Sciences, CS.Has.Low.Employability, Educational.Stage.High.School.10th.Grade, Has.Used.Games, Uses.Computer.At.Relatives.House, Has.Used.Internet, Has.Used.Other.Softwares, Has.Used.For.Creating.Web.Pages, Has.Used.Image.Editor, Uses.Computer.At.Friends.House, CS.Is.Prestigious, CS.Uses.Little.Math, Uses.Computer.At.Work, Uses.Computer.At.Digital.Inclusion.Center, Uses.Computer.At.School, Has.Used.Email, Has.Used.Database, Has.Used.Text.Editor, support (2011), confidence (2011), lift (2011), count (2011), Would.Enroll.In.CS (2011)]\nIndex: []\n\n[0 rows x 42 columns]",
      "text/html": "<div>\n<style scoped>\n    .dataframe tbody tr th:only-of-type {\n        vertical-align: middle;\n    }\n\n    .dataframe tbody tr th {\n        vertical-align: top;\n    }\n\n    .dataframe thead th {\n        text-align: right;\n    }\n</style>\n<table border=\"1\" class=\"dataframe\">\n  <thead>\n    <tr style=\"text-align: right;\">\n      <th></th>\n      <th>Has.Used.Social.Network</th>\n      <th>Uses.Computer.At.Home</th>\n      <th>Higher.Education.Required.To.Work.In.CS</th>\n      <th>CS.Provides.Good.Wages</th>\n      <th>Uses.Computer.At.Lan.House</th>\n      <th>No. Questions</th>\n      <th>Has.Used.Spreadsheet</th>\n      <th>CS.Only.Teaches.To.Use.Software</th>\n      <th>CS.Fosters.Creativity</th>\n      <th>Has.Used.For.Development</th>\n      <th>...</th>\n      <th>Uses.Computer.At.Digital.Inclusion.Center</th>\n      <th>Uses.Computer.At.School</th>\n      <th>Has.Used.Email</th>\n      <th>Has.Used.Database</th>\n      <th>Has.Used.Text.Editor</th>\n      <th>support (2011)</th>\n      <th>confidence (2011)</th>\n      <th>lift (2011)</th>\n      <th>count (2011)</th>\n      <th>Would.Enroll.In.CS (2011)</th>\n    </tr>\n  </thead>\n  <tbody>\n  </tbody>\n</table>\n<p>0 rows × 42 columns</p>\n</div>"
     },
     "metadata": {},
     "execution_count": 32
    }
   ],
   "source": [
    "new2011.loc[new2011['Family.Approves.CS.Major'] == 'No']"
   ]
  },
  {
   "cell_type": "code",
   "execution_count": 29,
   "metadata": {},
   "outputs": [
    {
     "output_type": "execute_result",
     "data": {
      "text/plain": "    No. Questions Family.Approves.CS.Major  support (2019)  confidence (2019)  \\\n36              1                    Maybe        0.245783           0.525773   \n37              1                       No        0.125301           0.514851   \n38              1                      Yes        0.118072           0.415254   \n\n    lift (2019)  count (2019) Would.Enroll.In.CS (2019)  \n36     1.142387           102                     Maybe  \n37     1.978365            52                        No  \n38     1.485608            49                       Yes  ",
      "text/html": "<div>\n<style scoped>\n    .dataframe tbody tr th:only-of-type {\n        vertical-align: middle;\n    }\n\n    .dataframe tbody tr th {\n        vertical-align: top;\n    }\n\n    .dataframe thead th {\n        text-align: right;\n    }\n</style>\n<table border=\"1\" class=\"dataframe\">\n  <thead>\n    <tr style=\"text-align: right;\">\n      <th></th>\n      <th>No. Questions</th>\n      <th>Family.Approves.CS.Major</th>\n      <th>support (2019)</th>\n      <th>confidence (2019)</th>\n      <th>lift (2019)</th>\n      <th>count (2019)</th>\n      <th>Would.Enroll.In.CS (2019)</th>\n    </tr>\n  </thead>\n  <tbody>\n    <tr>\n      <th>36</th>\n      <td>1</td>\n      <td>Maybe</td>\n      <td>0.245783</td>\n      <td>0.525773</td>\n      <td>1.142387</td>\n      <td>102</td>\n      <td>Maybe</td>\n    </tr>\n    <tr>\n      <th>37</th>\n      <td>1</td>\n      <td>No</td>\n      <td>0.125301</td>\n      <td>0.514851</td>\n      <td>1.978365</td>\n      <td>52</td>\n      <td>No</td>\n    </tr>\n    <tr>\n      <th>38</th>\n      <td>1</td>\n      <td>Yes</td>\n      <td>0.118072</td>\n      <td>0.415254</td>\n      <td>1.485608</td>\n      <td>49</td>\n      <td>Yes</td>\n    </tr>\n  </tbody>\n</table>\n</div>"
     },
     "metadata": {},
     "execution_count": 29
    }
   ],
   "source": [
    "new2019.loc[(new2019['No. Questions'] == 1) & (new2019['Family.Approves.CS.Major'] != '-')].replace('-', np.nan).dropna(axis=1, how='all').fillna('-')"
   ]
  },
  {
   "cell_type": "code",
   "execution_count": null,
   "metadata": {},
   "outputs": [],
   "source": []
  }
 ],
 "metadata": {
  "kernelspec": {
   "display_name": "Python 3.8.2 64-bit ('venv': virtualenv)",
   "language": "python",
   "name": "python38264bitvenvvirtualenv7f0bfb44104d468fa8500e0bbc01587e"
  }
 },
 "nbformat": 4,
 "nbformat_minor": 2
}